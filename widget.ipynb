{
 "cells": [
  {
   "cell_type": "markdown",
   "id": "00fcf710-5077-49a0-821b-115d3e295937",
   "metadata": {},
   "source": [
    "https://ipywidgets.readthedocs.io/en/latest/examples/Widget%20Basics.html"
   ]
  },
  {
   "cell_type": "code",
   "execution_count": 1,
   "id": "35027f0f-63f6-4995-80e1-03aec467498a",
   "metadata": {},
   "outputs": [],
   "source": [
    "import ipywidgets as widgets\n",
    "import numpy as np\n",
    "import matplotlib.pyplot as plt"
   ]
  },
  {
   "cell_type": "code",
   "execution_count": 2,
   "id": "5db306e2-1e63-47f0-b3a2-2e0f52496ca0",
   "metadata": {},
   "outputs": [],
   "source": [
    "w = widgets.IntSlider()"
   ]
  },
  {
   "cell_type": "code",
   "execution_count": 3,
   "id": "0ebd7bed-1a42-4924-9b69-20062e53fef7",
   "metadata": {},
   "outputs": [
    {
     "data": {
      "application/vnd.jupyter.widget-view+json": {
       "model_id": "8a7d67d566094aab9361aafe686822af",
       "version_major": 2,
       "version_minor": 0
      },
      "text/plain": [
       "IntSlider(value=0)"
      ]
     },
     "metadata": {},
     "output_type": "display_data"
    }
   ],
   "source": [
    "display(w)"
   ]
  },
  {
   "cell_type": "code",
   "execution_count": 4,
   "id": "fdc5f0b2-2d1b-4c4d-8172-ab9cff537189",
   "metadata": {},
   "outputs": [],
   "source": [
    "w.value = 45"
   ]
  },
  {
   "cell_type": "code",
   "execution_count": 5,
   "id": "1e2c3c19-7fb6-4082-8149-8ea3bb2f5304",
   "metadata": {},
   "outputs": [
    {
     "data": {
      "application/vnd.jupyter.widget-view+json": {
       "model_id": "2a8efdc3bd8a4232ae9019b68dd935a7",
       "version_major": 2,
       "version_minor": 0
      },
      "text/plain": [
       "FloatText(value=0.0)"
      ]
     },
     "metadata": {},
     "output_type": "display_data"
    },
    {
     "data": {
      "application/vnd.jupyter.widget-view+json": {
       "model_id": "12ad7975e68848aebe4675c0112ce61f",
       "version_major": 2,
       "version_minor": 0
      },
      "text/plain": [
       "FloatSlider(value=0.0)"
      ]
     },
     "metadata": {},
     "output_type": "display_data"
    }
   ],
   "source": [
    "a = widgets.FloatText()\n",
    "b = widgets.FloatSlider()\n",
    "display(a,b)\n",
    "\n",
    "mylink = widgets.jslink((a, 'value'), (b, 'value'))"
   ]
  },
  {
   "cell_type": "code",
   "execution_count": 7,
   "id": "3b9d618e-4d9e-4cbf-bf69-02631daa8aec",
   "metadata": {},
   "outputs": [
    {
     "data": {
      "text/plain": [
       "array([[-2.,  2.,  1.],\n",
       "       [-1.,  3.,  2.],\n",
       "       [ 0.,  4.,  2.],\n",
       "       [ 1.,  5.,  2.],\n",
       "       [ 2.,  6.,  3.],\n",
       "       [ 3.,  7.,  3.],\n",
       "       [ 4.,  8.,  3.],\n",
       "       [ 5.,  9.,  4.],\n",
       "       [ 6., 10.,  4.],\n",
       "       [ 7., 11.,  4.],\n",
       "       [ 8., 12.,  4.],\n",
       "       [ 9., 13.,  4.],\n",
       "       [10., 14.,  5.]])"
      ]
     },
     "execution_count": 7,
     "metadata": {},
     "output_type": "execute_result"
    }
   ],
   "source": [
    "ref = np.loadtxt(fname='ref.csv', delimiter=' ')\n",
    "ref"
   ]
  },
  {
   "cell_type": "code",
   "execution_count": 9,
   "id": "b8a3be58-9878-4a3a-b626-8716df54219d",
   "metadata": {},
   "outputs": [
    {
     "data": {
      "application/vnd.jupyter.widget-view+json": {
       "model_id": "ade34aba58254b5aad836e31da89d504",
       "version_major": 2,
       "version_minor": 0
      },
      "text/plain": [
       "BoundedIntText(value=13, description='Text:', max=13)"
      ]
     },
     "metadata": {},
     "output_type": "display_data"
    },
    {
     "data": {
      "application/vnd.jupyter.widget-view+json": {
       "model_id": "e999652265194c8d92c7944042799efb",
       "version_major": 2,
       "version_minor": 0
      },
      "text/plain": [
       "IntSlider(value=13, continuous_update=False, description='Test:', max=13)"
      ]
     },
     "metadata": {},
     "output_type": "display_data"
    }
   ],
   "source": [
    "a = widgets.BoundedIntText(\n",
    "    value=13,\n",
    "    min=0,\n",
    "    max=13,\n",
    "    step=1,\n",
    "    description='Text:',\n",
    "    disabled=False\n",
    ")\n",
    "b = widgets.IntSlider(\n",
    "    value=13,\n",
    "    min=0,\n",
    "    max=13,\n",
    "    step=1,\n",
    "    description='Test:',\n",
    "    disabled=False,\n",
    "    continuous_update=False,\n",
    "    orientation='horizontal',\n",
    "    readout=True,\n",
    "    readout_format='d'\n",
    ")\n",
    "display(a,b)\n",
    "\n",
    "mylink = widgets.jslink((a, 'value'), (b, 'value'))"
   ]
  },
  {
   "cell_type": "code",
   "execution_count": 14,
   "id": "08743c55-b803-475e-a808-fec85473ecd1",
   "metadata": {},
   "outputs": [
    {
     "data": {
      "image/png": "[encoded data removed]",
      "text/plain": [
       "<Figure size 640x480 with 1 Axes>"
      ]
     },
     "metadata": {},
     "output_type": "display_data"
    }
   ],
   "source": [
    "%matplotlib inline\n",
    "image = plt.plot(ref[:a.value,0], ref[:a.value,1], 'rx')\n",
    "image = plt.plot(ref[:a.value,0], ref[:a.value,2], 'bx')\n",
    "plt.show()"
   ]
  },
  {
   "cell_type": "code",
   "execution_count": null,
   "id": "618a03e4-4c29-4856-a7c8-ad9697664154",
   "metadata": {},
   "outputs": [],
   "source": []
  }
 ],
 "metadata": {
  "kernelspec": {
   "display_name": "Python 3 (ipykernel)",
   "language": "python",
   "name": "python3"
  },
  "language_info": {
   "codemirror_mode": {
    "name": "ipython",
    "version": 3
   },
   "file_extension": ".py",
   "mimetype": "text/x-python",
   "name": "python",
   "nbconvert_exporter": "python",
   "pygments_lexer": "ipython3",
   "version": "3.11.0"
  }
 },
 "nbformat": 4,
 "nbformat_minor": 5
}
