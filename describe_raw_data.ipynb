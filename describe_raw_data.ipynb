{
 "cells": [
  {
   "cell_type": "code",
   "execution_count": 1,
   "id": "35241a48-1964-48aa-993e-5f1db571be10",
   "metadata": {},
   "outputs": [],
   "source": [
    "import os\n",
    "import pandas as pd"
   ]
  },
  {
   "cell_type": "code",
   "execution_count": 14,
   "id": "afce1c6d-e494-494d-9682-6bf482cd1f5a",
   "metadata": {},
   "outputs": [],
   "source": [
    "metadata = pd.DataFrame()\n",
    "for filename in os.listdir(os.path.join(os.getcwd(), 'data')):\n",
    "    if filename[-4:] == '.txt':\n",
    "        with open(os.path.join('data', filename)) as f:\n",
    "            firstline = f.readline()\n",
    "            dict_version = eval(firstline[2:].replace(\"\\\\n\\\\n\", \"\"))\n",
    "            dict_version['filename'] = os.path.join(os.getcwd(), 'data', filename)\n",
    "            metadata = pd.concat([metadata, pd.DataFrame([dict_version])])\n",
    "\n",
    "metadata.insert(0, 'project', metadata.pop('project'))\n",
    "metadata.insert(0, 'dataset', metadata.pop('dataset'))\n",
    "metadata.insert(0, 'filename', metadata.pop('filename'))\n",
    "# print(\"df is \", metadata)\n",
    "with open(\"index.html\", \"w\") as f:\n",
    "    f.write(metadata.to_html(na_rep=\"__\", index=False, render_links=True))\n",
    "with open(\"index.csv\", \"w\") as f:\n",
    "    f.write(metadata.to_csv(na_rep=\"__\", index=False))"
   ]
  }
 ],
 "metadata": {
  "kernelspec": {
   "display_name": "Python 3 (ipykernel)",
   "language": "python",
   "name": "python3"
  },
  "language_info": {
   "codemirror_mode": {
    "name": "ipython",
    "version": 3
   },
   "file_extension": ".py",
   "mimetype": "text/x-python",
   "name": "python",
   "nbconvert_exporter": "python",
   "pygments_lexer": "ipython3",
   "version": "3.11.0"
  }
 },
 "nbformat": 4,
 "nbformat_minor": 5
}
