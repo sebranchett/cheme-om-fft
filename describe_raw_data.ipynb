{
 "cells": [
  {
   "cell_type": "code",
   "execution_count": 52,
   "id": "35241a48-1964-48aa-993e-5f1db571be10",
   "metadata": {},
   "outputs": [],
   "source": [
    "import os\n",
    "import pandas as pd"
   ]
  },
  {
   "cell_type": "code",
   "execution_count": 80,
   "id": "afce1c6d-e494-494d-9682-6bf482cd1f5a",
   "metadata": {},
   "outputs": [
    {
     "name": "stdout",
     "output_type": "stream",
     "text": [
      "df is           setup                    dataset            timestamp  \\\n",
      "0  THz-TDS-Ref  GGHO_2023.03.14_THZ1/0003  2023.03.14 15:32:48   \n",
      "0     THz-TRTS  GGHO_2023.03.14_THZ1/0007  2023.03.14 16:52:42   \n",
      "0  THz-TDS-Ref  GGHO_2023.06.06_THZ1/0064  2023.06.06 17:40:47   \n",
      "0     THz-TRTS  GGHO_2023.06.07_THZ1/0052  2023.06.07 17:43:32   \n",
      "0     THz-TRTS  GGHO_2023.06.07_THZ1/0054  2023.06.07 17:43:32   \n",
      "0     THz-TRTS  GGHO_2023.06.07_THZ1/0054  2023.06.07 17:43:32   \n",
      "\n",
      "                   sample                                        description  \\\n",
      "0  GaA as ref for optp-re  This is scan 1 of a total of 1\\nwithout cryost...   \n",
      "0                   GaAs                                    TRTS measurement   \n",
      "0             MoS2-3L-old  This is scan 43 of a total of 50\\nwith cryosta...   \n",
      "0      MoS2-Quartz-3L-old  This is scan 1 of a total of 10\\n400 nm pump\\n...   \n",
      "0      MoS2-Quartz-3L-old  This is scan 3 of a total of 10\\n400 nm pump\\n...   \n",
      "0      MoS2-Quartz-3L-old  This is scan 3 of a total of 10\\n400 nm pump\\n...   \n",
      "\n",
      "             project  nr_average  t_probe_offset  \\\n",
      "0  Fresh Measurement       300.0     -182.567717   \n",
      "0  fresh measurement         NaN             NaN   \n",
      "0       MoS2-coleman       300.0     -175.579858   \n",
      "0       MoS2_Coleman         NaN             NaN   \n",
      "0       MoS2_Coleman         NaN             NaN   \n",
      "0       MoS2_Coleman         NaN             NaN   \n",
      "\n",
      "                                       sha1                    filename  \\\n",
      "0  7d209418d293e07f66372086d00269ca38a919c8        GaAs_50uW_rt_TDS.txt   \n",
      "0  782df43e3ae9ec38a81fb30811a5253dfa81a25c       GaAs_50uW_rt_TRTS.txt   \n",
      "0  5de2c8dd599b3a90b7f7847f5e58482a3c30009d  MoS2-1500uW_9k_TDS_new.txt   \n",
      "0  3dbc54e1df20030056bd1b68775018fd275a37c1       MOS2_150uW_9K_TDS.txt   \n",
      "0  e3cef82fe4d39cd6be454959c4038da7f6427a13      MOS2_150uW_9K_TRTS.txt   \n",
      "0  e3cef82fe4d39cd6be454959c4038da7f6427a13  MOS2_150uW_9K_TRTS_new.txt   \n",
      "\n",
      "                   reference  t_pump  \n",
      "0                        NaN     NaN  \n",
      "0  GGHO_2023.03.14_THZ1/0006    10.0  \n",
      "0                        NaN     NaN  \n",
      "0  GGHO_2023.06.07_THZ1/0030    10.0  \n",
      "0  GGHO_2023.06.07_THZ1/0030    10.0  \n",
      "0  GGHO_2023.06.07_THZ1/0030    10.0  \n"
     ]
    }
   ],
   "source": [
    "metadata = pd.DataFrame()\n",
    "for filename in os.listdir(os.path.join(os.getcwd(), 'data')):\n",
    "    if filename[-4:] == '.txt':\n",
    "        with open(os.path.join('data', filename)) as f:\n",
    "            firstline = f.readline()\n",
    "            dict_version = eval(firstline[2:].replace(\"\\\\n\\\\n\", \"\"))\n",
    "            dict_version['filename'] = filename\n",
    "            metadata = pd.concat([metadata, pd.DataFrame([dict_version])])\n",
    "\n",
    "print(\"df is \", metadata)"
   ]
  }
 ],
 "metadata": {
  "kernelspec": {
   "display_name": "Python 3 (ipykernel)",
   "language": "python",
   "name": "python3"
  },
  "language_info": {
   "codemirror_mode": {
    "name": "ipython",
    "version": 3
   },
   "file_extension": ".py",
   "mimetype": "text/x-python",
   "name": "python",
   "nbconvert_exporter": "python",
   "pygments_lexer": "ipython3",
   "version": "3.11.0"
  }
 },
 "nbformat": 4,
 "nbformat_minor": 5
}
