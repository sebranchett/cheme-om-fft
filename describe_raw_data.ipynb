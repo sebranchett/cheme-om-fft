{
 "cells": [
  {
   "cell_type": "code",
   "execution_count": 17,
   "id": "35241a48-1964-48aa-993e-5f1db571be10",
   "metadata": {},
   "outputs": [],
   "source": [
    "import os"
   ]
  },
  {
   "cell_type": "code",
   "execution_count": 51,
   "id": "4f945179-5a4d-45ca-80ab-7dd94ad7522d",
   "metadata": {},
   "outputs": [
    {
     "name": "stdout",
     "output_type": "stream",
     "text": [
      "GaAs_50uW_rt_TDS.txt\n",
      "{'setup': 'THz-TDS-Ref', 'dataset': 'GGHO_2023.03.14_THZ1/0003', 'timestamp': '2023.03.14 15:32:48', 'sample': 'GaA as ref for optp-re', 'description': 'This is scan 1 of a total of 1\\nwithout cryostat.\\npump 800 nm', 'project': 'Fresh Measurement', 'nr_average': 300, 't_probe_offset': -182.56771688200257, 'sha1': '7d209418d293e07f66372086d00269ca38a919c8'}\n",
      "GaAs_50uW_rt_TRTS.txt\n",
      "{'setup': 'THz-TRTS', 'dataset': 'GGHO_2023.03.14_THZ1/0007', 'timestamp': '2023.03.14 16:52:42', 'sample': 'GaAs ', 'description': 'TRTS measurement', 'project': 'fresh measurement', 'reference': 'GGHO_2023.03.14_THZ1/0006', 't_pump': 10.0, 'sha1': '782df43e3ae9ec38a81fb30811a5253dfa81a25c'}\n",
      "MoS2-1500uW_9k_TDS_new.txt\n",
      "{'setup': 'THz-TDS-Ref', 'dataset': 'GGHO_2023.06.06_THZ1/0064', 'timestamp': '2023.06.06 17:40:47', 'sample': 'MoS2-3L-old', 'description': 'This is scan 43 of a total of 50\\nwith cryostat.\\npump 400 nm\\ntemp-9.29  K\\n150 uW\\nTDS scan averaging', 'project': 'MoS2-coleman', 'nr_average': 300, 't_probe_offset': -175.57985784578182, 'sha1': '5de2c8dd599b3a90b7f7847f5e58482a3c30009d'}\n",
      "MOS2_150uW_9K_TDS.txt\n",
      "{'setup': 'THz-TRTS', 'dataset': 'GGHO_2023.06.07_THZ1/0052', 'timestamp': '2023.06.07 17:43:32', 'sample': 'MoS2-Quartz-3L-old', 'description': 'This is scan 1 of a total of 10\\n400 nm pump\\nwith cryostat\\npower- 150 uW\\ntemp-9.29  K', 'project': 'MoS2_Coleman', 'reference': 'GGHO_2023.06.07_THZ1/0030', 't_pump': 10.0, 'sha1': '3dbc54e1df20030056bd1b68775018fd275a37c1'}\n",
      "MOS2_150uW_9K_TRTS.txt\n",
      "{'setup': 'THz-TRTS', 'dataset': 'GGHO_2023.06.07_THZ1/0054', 'timestamp': '2023.06.07 17:43:32', 'sample': 'MoS2-Quartz-3L-old', 'description': 'This is scan 3 of a total of 10\\n400 nm pump\\nwith cryostat\\npower- 150 uW\\ntemp-9.29  K', 'project': 'MoS2_Coleman', 'reference': 'GGHO_2023.06.07_THZ1/0030', 't_pump': 10.0, 'sha1': 'e3cef82fe4d39cd6be454959c4038da7f6427a13'}\n",
      "MOS2_150uW_9K_TRTS_new.txt\n",
      "{'setup': 'THz-TRTS', 'dataset': 'GGHO_2023.06.07_THZ1/0054', 'timestamp': '2023.06.07 17:43:32', 'sample': 'MoS2-Quartz-3L-old', 'description': 'This is scan 3 of a total of 10\\n400 nm pump\\nwith cryostat\\npower- 150 uW\\ntemp-9.29  K', 'project': 'MoS2_Coleman', 'reference': 'GGHO_2023.06.07_THZ1/0030', 't_pump': 10.0, 'sha1': 'e3cef82fe4d39cd6be454959c4038da7f6427a13'}\n"
     ]
    }
   ],
   "source": [
    "for filename in os.listdir(os.path.join(os.getcwd(), 'data')):\n",
    "    if filename[-4:] == '.txt':\n",
    "        print(filename)\n",
    "        with open(os.path.join('data', filename)) as f:\n",
    "            firstline = f.readline()\n",
    "            dict_version = eval(firstline[2:].replace(\"\\\\n\\\\n\", \"\"))\n",
    "            print(dict_version)"
   ]
  }
 ],
 "metadata": {
  "kernelspec": {
   "display_name": "Python 3 (ipykernel)",
   "language": "python",
   "name": "python3"
  },
  "language_info": {
   "codemirror_mode": {
    "name": "ipython",
    "version": 3
   },
   "file_extension": ".py",
   "mimetype": "text/x-python",
   "name": "python",
   "nbconvert_exporter": "python",
   "pygments_lexer": "ipython3",
   "version": "3.11.0"
  }
 },
 "nbformat": 4,
 "nbformat_minor": 5
}
